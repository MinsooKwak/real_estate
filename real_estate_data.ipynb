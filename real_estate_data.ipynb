{
  "nbformat": 4,
  "nbformat_minor": 0,
  "metadata": {
    "colab": {
      "name": "real_estate_data.ipynb",
      "provenance": [],
      "authorship_tag": "ABX9TyNNulavBVoyIhOrHFjMrkfe",
      "include_colab_link": true
    },
    "kernelspec": {
      "name": "python3",
      "display_name": "Python 3"
    },
    "language_info": {
      "name": "python"
    }
  },
  "cells": [
    {
      "cell_type": "markdown",
      "metadata": {
        "id": "view-in-github",
        "colab_type": "text"
      },
      "source": [
        "<a href=\"https://colab.research.google.com/github/MinsooKwak/real_estate/blob/main/real_estate_data.ipynb\" target=\"_parent\"><img src=\"https://colab.research.google.com/assets/colab-badge.svg\" alt=\"Open In Colab\"/></a>"
      ]
    },
    {
      "cell_type": "markdown",
      "source": [
        "### 한글 폰트 설정"
      ],
      "metadata": {
        "id": "gp3lX1bq3AQt"
      }
    },
    {
      "cell_type": "code",
      "execution_count": null,
      "metadata": {
        "id": "4qL3qRbifg-X"
      },
      "outputs": [],
      "source": [
        "#!sudo apt-get install -y fonts-nanum  ## 폰트설치\n",
        "#!sudo fc-cache -fv ## 폰트 업데이트\n",
        "#!rm ~/.cache/matplotlib -rf ## 캐쉬된 matplotlib 폰트 삭제하여 재로딩"
      ]
    },
    {
      "cell_type": "code",
      "source": [
        "#import할 패키지 목록\n",
        "import pandas as pd\n",
        "import numpy as np\n",
        "\n",
        "import seaborn as sns\n",
        "import matplotlib as mpl\n",
        "import matplotlib.pyplot as plt\n",
        "import matplotlib.font_manager as fm  # 폰트 관련 용도\n",
        "import missingno as msno\n",
        "\n",
        "# 경고를 무시합니다.\n",
        "import warnings\n",
        "warnings.filterwarnings(\"ignore\")\n",
        "\n",
        "# 구글 드라이브 호출\n",
        "from google.colab import drive\n",
        "drive.mount('/content/drive')"
      ],
      "metadata": {
        "colab": {
          "base_uri": "https://localhost:8080/"
        },
        "id": "hi28BGZKf3VF",
        "outputId": "e6dfb852-70fb-4638-ae56-70164ed9cdfd"
      },
      "execution_count": 1,
      "outputs": [
        {
          "output_type": "stream",
          "name": "stdout",
          "text": [
            "Drive already mounted at /content/drive; to attempt to forcibly remount, call drive.mount(\"/content/drive\", force_remount=True).\n"
          ]
        }
      ]
    },
    {
      "cell_type": "code",
      "source": [
        "# ttflist에 Nanum 글자 들어가는 폰트 있는지 확인하는 코드\n",
        "f = [f.name for f in fm.fontManager.ttflist if 'Nanum' in f.name]\n",
        "f\n",
        "\n",
        "#폰트종류설정\n",
        "plt.rcParams[\"font.family\"] ='NanumSquare'\n",
        "\n",
        "# 현재 설정되어 있는 폰트 사이즈와 글꼴을 알아보자\n",
        "!python --version\n",
        "def current_font():\n",
        "  print(f\"설정 폰트 글꼴: {plt.rcParams['font.family']}, 설정 폰트 사이즈: {plt.rcParams['font.size']}\")  # 파이썬 3.6 이상 사용가능하다\n",
        "        \n",
        "current_font()"
      ],
      "metadata": {
        "colab": {
          "base_uri": "https://localhost:8080/"
        },
        "id": "3QjiNI_8k8p2",
        "outputId": "677206b7-a6e7-4fb0-f9fb-fabd37f4ef9c"
      },
      "execution_count": 2,
      "outputs": [
        {
          "output_type": "stream",
          "name": "stdout",
          "text": [
            "Python 3.7.13\n",
            "설정 폰트 글꼴: ['NanumSquare'], 설정 폰트 사이즈: 10.0\n"
          ]
        }
      ]
    },
    {
      "cell_type": "markdown",
      "source": [
        "### Data import"
      ],
      "metadata": {
        "id": "btueXxaF3E_u"
      }
    },
    {
      "cell_type": "code",
      "source": [
        "cd /content/drive/MyDrive/real_estate"
      ],
      "metadata": {
        "colab": {
          "base_uri": "https://localhost:8080/"
        },
        "id": "eo1CD4DEgMG5",
        "outputId": "401a24d7-3530-43d1-ab6c-e87a457f33b3"
      },
      "execution_count": 3,
      "outputs": [
        {
          "output_type": "stream",
          "name": "stdout",
          "text": [
            "/content/drive/MyDrive/real_estate\n"
          ]
        }
      ]
    },
    {
      "cell_type": "code",
      "source": [
        "ls"
      ],
      "metadata": {
        "colab": {
          "base_uri": "https://localhost:8080/"
        },
        "id": "Ee1jr5Y_gSoO",
        "outputId": "dec20673-c4f2-4aa4-ca00-edce244e5c5d"
      },
      "execution_count": 4,
      "outputs": [
        {
          "output_type": "stream",
          "name": "stdout",
          "text": [
            "서울특별시_부동산_실거래가_정보_2006년1.csv\n",
            "서울특별시_부동산_실거래가_정보_2007년.csv\n",
            "서울특별시_부동산_실거래가_정보_2008년.csv\n",
            "서울특별시_부동산_실거래가_정보_2009년.csv\n",
            "서울특별시_부동산_실거래가_정보_2010년.csv\n",
            "서울특별시_부동산_실거래가_정보_2011년.csv\n",
            "서울특별시_부동산_실거래가_정보_2012년.csv\n",
            "서울특별시_부동산_실거래가_정보_2013년.csv\n",
            "서울특별시_부동산_실거래가_정보_2014년.csv\n",
            "서울특별시_부동산_실거래가_정보_2015년.csv\n",
            "서울특별시_부동산_실거래가_정보_2016년.csv\n",
            "서울특별시_부동산_실거래가_정보_2017년.csv\n",
            "서울특별시_부동산_실거래가_정보_2018년.csv\n",
            "서울특별시_부동산_실거래가_정보_2019년.csv\n",
            "서울특별시_부동산_실거래가_정보_2020년.csv\n",
            "서울특별시_부동산_실거래가_정보_2021년.csv\n"
          ]
        }
      ]
    },
    {
      "cell_type": "code",
      "source": [
        "df_2021 = pd.read_csv('서울특별시_부동산_실거래가_정보_2021년.csv',encoding='cp949')\n",
        "df_2020 = pd.read_csv('서울특별시_부동산_실거래가_정보_2020년.csv',encoding='cp949')\n",
        "df_2019 = pd.read_csv('서울특별시_부동산_실거래가_정보_2019년.csv',encoding='cp949')\n",
        "df_2018 = pd.read_csv('서울특별시_부동산_실거래가_정보_2018년.csv',encoding='cp949')\n",
        "df_2017 = pd.read_csv('서울특별시_부동산_실거래가_정보_2017년.csv',encoding='cp949')\n",
        "df_2016 = pd.read_csv('서울특별시_부동산_실거래가_정보_2016년.csv',encoding='cp949')\n",
        "df_2015 = pd.read_csv('서울특별시_부동산_실거래가_정보_2015년.csv',encoding='cp949')\n",
        "df_2014 = pd.read_csv('서울특별시_부동산_실거래가_정보_2014년.csv',encoding='cp949')\n",
        "df_2013 = pd.read_csv('서울특별시_부동산_실거래가_정보_2013년.csv',encoding='cp949')\n",
        "df_2012 = pd.read_csv('서울특별시_부동산_실거래가_정보_2012년.csv',encoding='cp949')\n",
        "df_2011 = pd.read_csv('서울특별시_부동산_실거래가_정보_2011년.csv',encoding='cp949')\n",
        "df_2010 = pd.read_csv('서울특별시_부동산_실거래가_정보_2010년.csv',encoding='cp949')\n",
        "df_2009 = pd.read_csv('서울특별시_부동산_실거래가_정보_2009년.csv',encoding='cp949')\n",
        "df_2008 = pd.read_csv('서울특별시_부동산_실거래가_정보_2008년.csv',encoding='cp949')\n",
        "df_2007 = pd.read_csv('서울특별시_부동산_실거래가_정보_2007년.csv',encoding='cp949')\n",
        "df_2006 = pd.read_csv('서울특별시_부동산_실거래가_정보_2006년1.csv',encoding='cp949')"
      ],
      "metadata": {
        "id": "O3Hz3KAngTJh"
      },
      "execution_count": 5,
      "outputs": []
    },
    {
      "cell_type": "code",
      "source": [
        "print(f'2021년 : {df_2021.shape}')\n",
        "print(f'2020년 : {df_2020.shape}')\n",
        "print(f'2019년 : {df_2019.shape}')\n",
        "print(f'2018년 : {df_2018.shape}')\n",
        "print(f'2017년 : {df_2017.shape}')\n",
        "print(f'2016년 : {df_2016.shape}')\n",
        "print(f'2015년 : {df_2015.shape}')\n",
        "print(f'2014년 : {df_2014.shape}')\n",
        "print(f'2013년 : {df_2013.shape}')\n",
        "print(f'2012년 : {df_2012.shape}')\n",
        "print(f'2011년 : {df_2011.shape}')\n",
        "print(f'2010년 : {df_2010.shape}')\n",
        "print(f'2009년 : {df_2009.shape}')\n",
        "print(f'2008년 : {df_2008.shape}')\n",
        "print(f'2007년 : {df_2007.shape}')\n",
        "print(f'2006년 : {df_2006.shape}')"
      ],
      "metadata": {
        "colab": {
          "base_uri": "https://localhost:8080/"
        },
        "id": "Ro_nNQqmgf-p",
        "outputId": "f99ccde6-53e8-4a87-900b-dbae49a5e62f"
      },
      "execution_count": 6,
      "outputs": [
        {
          "output_type": "stream",
          "name": "stdout",
          "text": [
            "2021년 : (131871, 19)\n",
            "2020년 : (176001, 19)\n",
            "2019년 : (130272, 19)\n",
            "2018년 : (165610, 19)\n",
            "2017년 : (187753, 19)\n",
            "2016년 : (209573, 19)\n",
            "2015년 : (212543, 19)\n",
            "2014년 : (142021, 19)\n",
            "2013년 : (107282, 19)\n",
            "2012년 : (81302, 19)\n",
            "2011년 : (112409, 19)\n",
            "2010년 : (92966, 19)\n",
            "2009년 : (139667, 19)\n",
            "2008년 : (146475, 19)\n",
            "2007년 : (146970, 19)\n",
            "2006년 : (210866, 19)\n"
          ]
        }
      ]
    },
    {
      "cell_type": "markdown",
      "source": [
        "2019년도의 데이터셋에서 feature명을 다른 연도의 feature와 동일하게 변경해줍니다."
      ],
      "metadata": {
        "id": "_1dEpBps3JBM"
      }
    },
    {
      "cell_type": "code",
      "source": [
        "df_2019.columns = ['실거래가아이디','지번코드','시군구코드','자치구명','법정동코드','법정동명','신고년도','업무구분코드','업무구분','물건번호','대지권면적','건물면적','관리구분코드','층정보','건물주용도코드','건물주용도','물건금액','건축년도','건물명']"
      ],
      "metadata": {
        "id": "N-7ZZLOQjz4T"
      },
      "execution_count": 7,
      "outputs": []
    },
    {
      "cell_type": "markdown",
      "source": [
        "concat data"
      ],
      "metadata": {
        "id": "qqqPSz1G3Qdn"
      }
    },
    {
      "cell_type": "code",
      "source": [
        "df = pd.concat([df_2021,df_2020,df_2019,df_2018,df_2017,df_2016,df_2015,df_2014,df_2013,df_2012,df_2011,df_2010,df_2009,df_2008,df_2007,df_2006])\n",
        "df.shape"
      ],
      "metadata": {
        "colab": {
          "base_uri": "https://localhost:8080/"
        },
        "id": "3086-xMBghug",
        "outputId": "b7ffe531-3393-4739-dca4-46fa096d81e6"
      },
      "execution_count": 8,
      "outputs": [
        {
          "output_type": "execute_result",
          "data": {
            "text/plain": [
              "(2393581, 19)"
            ]
          },
          "metadata": {},
          "execution_count": 8
        }
      ]
    },
    {
      "cell_type": "markdown",
      "source": [
        "### 결측치 비율 확인"
      ],
      "metadata": {
        "id": "VLt82TXr25TS"
      }
    },
    {
      "cell_type": "code",
      "source": [
        "# 결측치 비율 확인\n",
        "%matplotlib inline\n",
        "msno.matrix(df, figsize=(17,8), fontsize=14);"
      ],
      "metadata": {
        "colab": {
          "base_uri": "https://localhost:8080/",
          "height": 556
        },
        "id": "kGqRyZE7j2kC",
        "outputId": "31cbb34f-af22-4973-f753-db5ed8def4a9"
      },
      "execution_count": 9,
      "outputs": [
        {
          "output_type": "display_data",
          "data": {
            "text/plain": [
              "<Figure size 1224x576 with 2 Axes>"
            ],
            "image/png": "[encoded data removed]"
          },
          "metadata": {
            "needs_background": "light"
          }
        }
      ]
    },
    {
      "cell_type": "code",
      "source": [
        "msno.bar(df, figsize=(17,6), fontsize=14);"
      ],
      "metadata": {
        "colab": {
          "base_uri": "https://localhost:8080/",
          "height": 494
        },
        "id": "D4Xd8-EE2XDP",
        "outputId": "141340f3-9135-4d02-deb7-3807e49b75da"
      },
      "execution_count": 10,
      "outputs": [
        {
          "output_type": "display_data",
          "data": {
            "text/plain": [
              "<Figure size 1224x432 with 3 Axes>"
            ],
            "image/png": "[encoded data removed]"
          },
          "metadata": {
            "needs_background": "light"
          }
        }
      ]
    },
    {
      "cell_type": "code",
      "source": [
        "print('결측치가 포함된 항목은 다음과 같습니다: \\n')\n",
        "for i in df.columns:\n",
        "  null_rate = df[i].isna().sum() / len(df)*100\n",
        "  if null_rate > 0:\n",
        "    print(f\"{i}'s null rate : {null_rate.round(2)}%\")"
      ],
      "metadata": {
        "colab": {
          "base_uri": "https://localhost:8080/"
        },
        "id": "CNWW6nOu2aWY",
        "outputId": "797cf9e7-302f-4c67-b383-7972f97e0922"
      },
      "execution_count": 17,
      "outputs": [
        {
          "output_type": "stream",
          "name": "stdout",
          "text": [
            "결측치가 포함된 항목은 다음과 같습니다: \n",
            "\n",
            "대지권면적's null rate : 46.5%\n",
            "관리구분코드's null rate : 0.0%\n",
            "층정보's null rate : 8.39%\n",
            "건축년도's null rate : 0.29%\n",
            "건물명's null rate : 8.39%\n"
          ]
        }
      ]
    },
    {
      "cell_type": "markdown",
      "source": [
        "참고: 대지권면적의 결측치 비율이 46.5%로 데이터의 절반 가량을 차지합니다."
      ],
      "metadata": {
        "id": "oaDvWe7o3vVd"
      }
    },
    {
      "cell_type": "markdown",
      "source": [
        "각 Feature들의 범주 개수 확인"
      ],
      "metadata": {
        "id": "AFQzb58Y37Hw"
      }
    },
    {
      "cell_type": "code",
      "source": [
        "print(f'실거래가아이디 개수 : {df.실거래가아이디.nunique()}')\n",
        "print(f'지번코드       개수 : {df.지번코드.nunique()}')\n",
        "print(f'시군구코드     개수 : {df.시군구코드.nunique()}')\n",
        "print(f'자치구명       개수 : {df.자치구명.nunique()}')\n",
        "print(f'법정동코드     개수 : {df.법정동코드.nunique()}')\n",
        "print(f'법정동명       개수 : {df.법정동명.nunique()}')\n",
        "print(f'신고년도       개수 : {df.신고년도.nunique()}')\n",
        "print(f'업무구분코드   개수 : {df.업무구분코드.nunique()}')\n",
        "print(f'업무구분       개수 : {df.업무구분.nunique()}')\n",
        "print(f'물건번호       개수 : {df.물건번호.nunique()}')\n",
        "print(f'대지권면적     개수 : {df.대지권면적.nunique()}')\n",
        "print(f'건물면적       개수 : {df.건물면적.nunique()}')\n",
        "print(f'관리구분코드   개수 : {df.관리구분코드.nunique()}')\n",
        "print(f'층정보         개수 : {df.층정보.nunique()}')\n",
        "print(f'건물주용도코드 개수 : {df.건물주용도코드.nunique()}')\n",
        "print(f'건물주용도     개수 : {df.건물주용도.nunique()}')\n",
        "print(f'물건금액       개수 : {df.물건금액.nunique()}')\n",
        "print(f'건축년도       개수 : {df.건축년도.nunique()}')\n",
        "print(f'건물명         개수 : {df.건물명.nunique()}')"
      ],
      "metadata": {
        "colab": {
          "base_uri": "https://localhost:8080/"
        },
        "id": "VLwezJYGn2FA",
        "outputId": "9c299be3-cfff-4c48-c309-3720ba765b8b"
      },
      "execution_count": 13,
      "outputs": [
        {
          "output_type": "stream",
          "name": "stdout",
          "text": [
            "실거래가아이디 개수 : 2393581\n",
            "지번코드       개수 : 162917\n",
            "시군구코드     개수 : 25\n",
            "자치구명       개수 : 25\n",
            "법정동코드     개수 : 440\n",
            "법정동명       개수 : 438\n",
            "신고년도       개수 : 16\n",
            "업무구분코드   개수 : 2\n",
            "업무구분       개수 : 2\n",
            "물건번호       개수 : 476\n",
            "대지권면적     개수 : 15459\n",
            "건물면적       개수 : 40490\n",
            "관리구분코드   개수 : 8\n",
            "층정보         개수 : 79\n",
            "건물주용도코드 개수 : 4\n",
            "건물주용도     개수 : 4\n",
            "물건금액       개수 : 46270\n",
            "건축년도       개수 : 117\n",
            "건물명         개수 : 72049\n"
          ]
        }
      ]
    },
    {
      "cell_type": "code",
      "source": [
        "df.head(2)"
      ],
      "metadata": {
        "colab": {
          "base_uri": "https://localhost:8080/",
          "height": 208
        },
        "id": "LGGs7HVi7R5d",
        "outputId": "f5ba1de5-f59d-4128-88dd-f44d68fbbe8a"
      },
      "execution_count": 20,
      "outputs": [
        {
          "output_type": "execute_result",
          "data": {
            "text/plain": [
              "                  실거래가아이디                 지번코드  시군구코드 자치구명       법정동코드 법정동명  \\\n",
              "0  11110-2021-4-0005751-1  1111018300103450062  11110  종로구  1111018300  평창동   \n",
              "1  11110-2021-4-0005458-1  1111017400107030000  11110  종로구  1111017400  창신동   \n",
              "\n",
              "   신고년도  업무구분코드 업무구분  물건번호  대지권면적  건물면적 관리구분코드  층정보  건물주용도코드 건물주용도       물건금액  \\\n",
              "0  2021       4   신고     1  77.98  90.3      0  1.0     2002  연립주택  560000000   \n",
              "1  2021       4   신고     1   0.00  54.7      0  6.0     2001   아파트  700000000   \n",
              "\n",
              "     건축년도       건물명  \n",
              "0  1994.0  (345-62)  \n",
              "1  1993.0     창신쌍용2  "
            ],
            "text/html": [
              "\n",
              "  <div id=\"df-74bf4cd4-027e-4293-a2d0-ba437c0b1618\">\n",
              "    <div class=\"colab-df-container\">\n",
              "      <div>\n",
              "<style scoped>\n",
              "    .dataframe tbody tr th:only-of-type {\n",
              "        vertical-align: middle;\n",
              "    }\n",
              "\n",
              "    .dataframe tbody tr th {\n",
              "        vertical-align: top;\n",
              "    }\n",
              "\n",
              "    .dataframe thead th {\n",
              "        text-align: right;\n",
              "    }\n",
              "</style>\n",
              "<table border=\"1\" class=\"dataframe\">\n",
              "  <thead>\n",
              "    <tr style=\"text-align: right;\">\n",
              "      <th></th>\n",
              "      <th>실거래가아이디</th>\n",
              "      <th>지번코드</th>\n",
              "      <th>시군구코드</th>\n",
              "      <th>자치구명</th>\n",
              "      <th>법정동코드</th>\n",
              "      <th>법정동명</th>\n",
              "      <th>신고년도</th>\n",
              "      <th>업무구분코드</th>\n",
              "      <th>업무구분</th>\n",
              "      <th>물건번호</th>\n",
              "      <th>대지권면적</th>\n",
              "      <th>건물면적</th>\n",
              "      <th>관리구분코드</th>\n",
              "      <th>층정보</th>\n",
              "      <th>건물주용도코드</th>\n",
              "      <th>건물주용도</th>\n",
              "      <th>물건금액</th>\n",
              "      <th>건축년도</th>\n",
              "      <th>건물명</th>\n",
              "    </tr>\n",
              "  </thead>\n",
              "  <tbody>\n",
              "    <tr>\n",
              "      <th>0</th>\n",
              "      <td>11110-2021-4-0005751-1</td>\n",
              "      <td>1111018300103450062</td>\n",
              "      <td>11110</td>\n",
              "      <td>종로구</td>\n",
              "      <td>1111018300</td>\n",
              "      <td>평창동</td>\n",
              "      <td>2021</td>\n",
              "      <td>4</td>\n",
              "      <td>신고</td>\n",
              "      <td>1</td>\n",
              "      <td>77.98</td>\n",
              "      <td>90.3</td>\n",
              "      <td>0</td>\n",
              "      <td>1.0</td>\n",
              "      <td>2002</td>\n",
              "      <td>연립주택</td>\n",
              "      <td>560000000</td>\n",
              "      <td>1994.0</td>\n",
              "      <td>(345-62)</td>\n",
              "    </tr>\n",
              "    <tr>\n",
              "      <th>1</th>\n",
              "      <td>11110-2021-4-0005458-1</td>\n",
              "      <td>1111017400107030000</td>\n",
              "      <td>11110</td>\n",
              "      <td>종로구</td>\n",
              "      <td>1111017400</td>\n",
              "      <td>창신동</td>\n",
              "      <td>2021</td>\n",
              "      <td>4</td>\n",
              "      <td>신고</td>\n",
              "      <td>1</td>\n",
              "      <td>0.00</td>\n",
              "      <td>54.7</td>\n",
              "      <td>0</td>\n",
              "      <td>6.0</td>\n",
              "      <td>2001</td>\n",
              "      <td>아파트</td>\n",
              "      <td>700000000</td>\n",
              "      <td>1993.0</td>\n",
              "      <td>창신쌍용2</td>\n",
              "    </tr>\n",
              "  </tbody>\n",
              "</table>\n",
              "</div>\n",
              "      <button class=\"colab-df-convert\" onclick=\"convertToInteractive('df-74bf4cd4-027e-4293-a2d0-ba437c0b1618')\"\n",
              "              title=\"Convert this dataframe to an interactive table.\"\n",
              "              style=\"display:none;\">\n",
              "        \n",
              "  <svg xmlns=\"http://www.w3.org/2000/svg\" height=\"24px\"viewBox=\"0 0 24 24\"\n",
              "       width=\"24px\">\n",
              "    <path d=\"M0 0h24v24H0V0z\" fill=\"none\"/>\n",
              "    <path d=\"M18.56 5.44l.94 2.06.94-2.06 2.06-.94-2.06-.94-.94-2.06-.94 2.06-2.06.94zm-11 1L8.5 8.5l.94-2.06 2.06-.94-2.06-.94L8.5 2.5l-.94 2.06-2.06.94zm10 10l.94 2.06.94-2.06 2.06-.94-2.06-.94-.94-2.06-.94 2.06-2.06.94z\"/><path d=\"M17.41 7.96l-1.37-1.37c-.4-.4-.92-.59-1.43-.59-.52 0-1.04.2-1.43.59L10.3 9.45l-7.72 7.72c-.78.78-.78 2.05 0 2.83L4 21.41c.39.39.9.59 1.41.59.51 0 1.02-.2 1.41-.59l7.78-7.78 2.81-2.81c.8-.78.8-2.07 0-2.86zM5.41 20L4 18.59l7.72-7.72 1.47 1.35L5.41 20z\"/>\n",
              "  </svg>\n",
              "      </button>\n",
              "      \n",
              "  <style>\n",
              "    .colab-df-container {\n",
              "      display:flex;\n",
              "      flex-wrap:wrap;\n",
              "      gap: 12px;\n",
              "    }\n",
              "\n",
              "    .colab-df-convert {\n",
              "      background-color: #E8F0FE;\n",
              "      border: none;\n",
              "      border-radius: 50%;\n",
              "      cursor: pointer;\n",
              "      display: none;\n",
              "      fill: #1967D2;\n",
              "      height: 32px;\n",
              "      padding: 0 0 0 0;\n",
              "      width: 32px;\n",
              "    }\n",
              "\n",
              "    .colab-df-convert:hover {\n",
              "      background-color: #E2EBFA;\n",
              "      box-shadow: 0px 1px 2px rgba(60, 64, 67, 0.3), 0px 1px 3px 1px rgba(60, 64, 67, 0.15);\n",
              "      fill: #174EA6;\n",
              "    }\n",
              "\n",
              "    [theme=dark] .colab-df-convert {\n",
              "      background-color: #3B4455;\n",
              "      fill: #D2E3FC;\n",
              "    }\n",
              "\n",
              "    [theme=dark] .colab-df-convert:hover {\n",
              "      background-color: #434B5C;\n",
              "      box-shadow: 0px 1px 3px 1px rgba(0, 0, 0, 0.15);\n",
              "      filter: drop-shadow(0px 1px 2px rgba(0, 0, 0, 0.3));\n",
              "      fill: #FFFFFF;\n",
              "    }\n",
              "  </style>\n",
              "\n",
              "      <script>\n",
              "        const buttonEl =\n",
              "          document.querySelector('#df-74bf4cd4-027e-4293-a2d0-ba437c0b1618 button.colab-df-convert');\n",
              "        buttonEl.style.display =\n",
              "          google.colab.kernel.accessAllowed ? 'block' : 'none';\n",
              "\n",
              "        async function convertToInteractive(key) {\n",
              "          const element = document.querySelector('#df-74bf4cd4-027e-4293-a2d0-ba437c0b1618');\n",
              "          const dataTable =\n",
              "            await google.colab.kernel.invokeFunction('convertToInteractive',\n",
              "                                                     [key], {});\n",
              "          if (!dataTable) return;\n",
              "\n",
              "          const docLinkHtml = 'Like what you see? Visit the ' +\n",
              "            '<a target=\"_blank\" href=https://colab.research.google.com/notebooks/data_table.ipynb>data table notebook</a>'\n",
              "            + ' to learn more about interactive tables.';\n",
              "          element.innerHTML = '';\n",
              "          dataTable['output_type'] = 'display_data';\n",
              "          await google.colab.output.renderOutput(dataTable, element);\n",
              "          const docLink = document.createElement('div');\n",
              "          docLink.innerHTML = docLinkHtml;\n",
              "          element.appendChild(docLink);\n",
              "        }\n",
              "      </script>\n",
              "    </div>\n",
              "  </div>\n",
              "  "
            ]
          },
          "metadata": {},
          "execution_count": 20
        }
      ]
    },
    {
      "cell_type": "markdown",
      "source": [
        "실거래가아이디는 시군구코드-신고년도-업무구분코드-아이디-거래번호순으로 구성되어 있는 것으로 보입니다."
      ],
      "metadata": {
        "id": "toIY95nl7VTC"
      }
    },
    {
      "cell_type": "code",
      "source": [
        "# 아이디를 도출하기 위한 함수를 정의합니다.\n",
        "def split_dash(str):\n",
        "  str = str.split('-',maxsplit=4)\n",
        "  return str[3]"
      ],
      "metadata": {
        "id": "Yox10YxD808_"
      },
      "execution_count": 45,
      "outputs": []
    },
    {
      "cell_type": "code",
      "source": [
        "df.실거래가아이디 = df.실거래가아이디.astype(str)"
      ],
      "metadata": {
        "id": "7RmYP0Wj9P-B"
      },
      "execution_count": 46,
      "outputs": []
    },
    {
      "cell_type": "code",
      "source": [
        "df['아이디']= df['실거래가아이디'].apply(split_dash)\n",
        "df.head(2)"
      ],
      "metadata": {
        "colab": {
          "base_uri": "https://localhost:8080/",
          "height": 208
        },
        "id": "XSWpnjrT7yOW",
        "outputId": "bbb31549-0f07-4d2f-bd5c-92272b7fad7f"
      },
      "execution_count": 47,
      "outputs": [
        {
          "output_type": "execute_result",
          "data": {
            "text/plain": [
              "                  실거래가아이디                 지번코드  시군구코드 자치구명       법정동코드 법정동명  \\\n",
              "0  11110-2021-4-0005751-1  1111018300103450062  11110  종로구  1111018300  평창동   \n",
              "1  11110-2021-4-0005458-1  1111017400107030000  11110  종로구  1111017400  창신동   \n",
              "\n",
              "   신고년도  업무구분코드 업무구분  물건번호  대지권면적  건물면적 관리구분코드  층정보  건물주용도코드 건물주용도       물건금액  \\\n",
              "0  2021       4   신고     1  77.98  90.3      0  1.0     2002  연립주택  560000000   \n",
              "1  2021       4   신고     1   0.00  54.7      0  6.0     2001   아파트  700000000   \n",
              "\n",
              "     건축년도       건물명      아이디  \n",
              "0  1994.0  (345-62)  0005751  \n",
              "1  1993.0     창신쌍용2  0005458  "
            ],
            "text/html": [
              "\n",
              "  <div id=\"df-fe3b9451-35fa-4662-b431-a243243b3acf\">\n",
              "    <div class=\"colab-df-container\">\n",
              "      <div>\n",
              "<style scoped>\n",
              "    .dataframe tbody tr th:only-of-type {\n",
              "        vertical-align: middle;\n",
              "    }\n",
              "\n",
              "    .dataframe tbody tr th {\n",
              "        vertical-align: top;\n",
              "    }\n",
              "\n",
              "    .dataframe thead th {\n",
              "        text-align: right;\n",
              "    }\n",
              "</style>\n",
              "<table border=\"1\" class=\"dataframe\">\n",
              "  <thead>\n",
              "    <tr style=\"text-align: right;\">\n",
              "      <th></th>\n",
              "      <th>실거래가아이디</th>\n",
              "      <th>지번코드</th>\n",
              "      <th>시군구코드</th>\n",
              "      <th>자치구명</th>\n",
              "      <th>법정동코드</th>\n",
              "      <th>법정동명</th>\n",
              "      <th>신고년도</th>\n",
              "      <th>업무구분코드</th>\n",
              "      <th>업무구분</th>\n",
              "      <th>물건번호</th>\n",
              "      <th>대지권면적</th>\n",
              "      <th>건물면적</th>\n",
              "      <th>관리구분코드</th>\n",
              "      <th>층정보</th>\n",
              "      <th>건물주용도코드</th>\n",
              "      <th>건물주용도</th>\n",
              "      <th>물건금액</th>\n",
              "      <th>건축년도</th>\n",
              "      <th>건물명</th>\n",
              "      <th>아이디</th>\n",
              "    </tr>\n",
              "  </thead>\n",
              "  <tbody>\n",
              "    <tr>\n",
              "      <th>0</th>\n",
              "      <td>11110-2021-4-0005751-1</td>\n",
              "      <td>1111018300103450062</td>\n",
              "      <td>11110</td>\n",
              "      <td>종로구</td>\n",
              "      <td>1111018300</td>\n",
              "      <td>평창동</td>\n",
              "      <td>2021</td>\n",
              "      <td>4</td>\n",
              "      <td>신고</td>\n",
              "      <td>1</td>\n",
              "      <td>77.98</td>\n",
              "      <td>90.3</td>\n",
              "      <td>0</td>\n",
              "      <td>1.0</td>\n",
              "      <td>2002</td>\n",
              "      <td>연립주택</td>\n",
              "      <td>560000000</td>\n",
              "      <td>1994.0</td>\n",
              "      <td>(345-62)</td>\n",
              "      <td>0005751</td>\n",
              "    </tr>\n",
              "    <tr>\n",
              "      <th>1</th>\n",
              "      <td>11110-2021-4-0005458-1</td>\n",
              "      <td>1111017400107030000</td>\n",
              "      <td>11110</td>\n",
              "      <td>종로구</td>\n",
              "      <td>1111017400</td>\n",
              "      <td>창신동</td>\n",
              "      <td>2021</td>\n",
              "      <td>4</td>\n",
              "      <td>신고</td>\n",
              "      <td>1</td>\n",
              "      <td>0.00</td>\n",
              "      <td>54.7</td>\n",
              "      <td>0</td>\n",
              "      <td>6.0</td>\n",
              "      <td>2001</td>\n",
              "      <td>아파트</td>\n",
              "      <td>700000000</td>\n",
              "      <td>1993.0</td>\n",
              "      <td>창신쌍용2</td>\n",
              "      <td>0005458</td>\n",
              "    </tr>\n",
              "  </tbody>\n",
              "</table>\n",
              "</div>\n",
              "      <button class=\"colab-df-convert\" onclick=\"convertToInteractive('df-fe3b9451-35fa-4662-b431-a243243b3acf')\"\n",
              "              title=\"Convert this dataframe to an interactive table.\"\n",
              "              style=\"display:none;\">\n",
              "        \n",
              "  <svg xmlns=\"http://www.w3.org/2000/svg\" height=\"24px\"viewBox=\"0 0 24 24\"\n",
              "       width=\"24px\">\n",
              "    <path d=\"M0 0h24v24H0V0z\" fill=\"none\"/>\n",
              "    <path d=\"M18.56 5.44l.94 2.06.94-2.06 2.06-.94-2.06-.94-.94-2.06-.94 2.06-2.06.94zm-11 1L8.5 8.5l.94-2.06 2.06-.94-2.06-.94L8.5 2.5l-.94 2.06-2.06.94zm10 10l.94 2.06.94-2.06 2.06-.94-2.06-.94-.94-2.06-.94 2.06-2.06.94z\"/><path d=\"M17.41 7.96l-1.37-1.37c-.4-.4-.92-.59-1.43-.59-.52 0-1.04.2-1.43.59L10.3 9.45l-7.72 7.72c-.78.78-.78 2.05 0 2.83L4 21.41c.39.39.9.59 1.41.59.51 0 1.02-.2 1.41-.59l7.78-7.78 2.81-2.81c.8-.78.8-2.07 0-2.86zM5.41 20L4 18.59l7.72-7.72 1.47 1.35L5.41 20z\"/>\n",
              "  </svg>\n",
              "      </button>\n",
              "      \n",
              "  <style>\n",
              "    .colab-df-container {\n",
              "      display:flex;\n",
              "      flex-wrap:wrap;\n",
              "      gap: 12px;\n",
              "    }\n",
              "\n",
              "    .colab-df-convert {\n",
              "      background-color: #E8F0FE;\n",
              "      border: none;\n",
              "      border-radius: 50%;\n",
              "      cursor: pointer;\n",
              "      display: none;\n",
              "      fill: #1967D2;\n",
              "      height: 32px;\n",
              "      padding: 0 0 0 0;\n",
              "      width: 32px;\n",
              "    }\n",
              "\n",
              "    .colab-df-convert:hover {\n",
              "      background-color: #E2EBFA;\n",
              "      box-shadow: 0px 1px 2px rgba(60, 64, 67, 0.3), 0px 1px 3px 1px rgba(60, 64, 67, 0.15);\n",
              "      fill: #174EA6;\n",
              "    }\n",
              "\n",
              "    [theme=dark] .colab-df-convert {\n",
              "      background-color: #3B4455;\n",
              "      fill: #D2E3FC;\n",
              "    }\n",
              "\n",
              "    [theme=dark] .colab-df-convert:hover {\n",
              "      background-color: #434B5C;\n",
              "      box-shadow: 0px 1px 3px 1px rgba(0, 0, 0, 0.15);\n",
              "      filter: drop-shadow(0px 1px 2px rgba(0, 0, 0, 0.3));\n",
              "      fill: #FFFFFF;\n",
              "    }\n",
              "  </style>\n",
              "\n",
              "      <script>\n",
              "        const buttonEl =\n",
              "          document.querySelector('#df-fe3b9451-35fa-4662-b431-a243243b3acf button.colab-df-convert');\n",
              "        buttonEl.style.display =\n",
              "          google.colab.kernel.accessAllowed ? 'block' : 'none';\n",
              "\n",
              "        async function convertToInteractive(key) {\n",
              "          const element = document.querySelector('#df-fe3b9451-35fa-4662-b431-a243243b3acf');\n",
              "          const dataTable =\n",
              "            await google.colab.kernel.invokeFunction('convertToInteractive',\n",
              "                                                     [key], {});\n",
              "          if (!dataTable) return;\n",
              "\n",
              "          const docLinkHtml = 'Like what you see? Visit the ' +\n",
              "            '<a target=\"_blank\" href=https://colab.research.google.com/notebooks/data_table.ipynb>data table notebook</a>'\n",
              "            + ' to learn more about interactive tables.';\n",
              "          element.innerHTML = '';\n",
              "          dataTable['output_type'] = 'display_data';\n",
              "          await google.colab.output.renderOutput(dataTable, element);\n",
              "          const docLink = document.createElement('div');\n",
              "          docLink.innerHTML = docLinkHtml;\n",
              "          element.appendChild(docLink);\n",
              "        }\n",
              "      </script>\n",
              "    </div>\n",
              "  </div>\n",
              "  "
            ]
          },
          "metadata": {},
          "execution_count": 47
        }
      ]
    },
    {
      "cell_type": "code",
      "source": [
        "print(f'거래한 아이디는 총 {df.아이디.nunique()}개 입니다.')"
      ],
      "metadata": {
        "colab": {
          "base_uri": "https://localhost:8080/"
        },
        "id": "yeMytmRT-Hxf",
        "outputId": "be122666-7518-4880-fcc4-5bbc5095246c"
      },
      "execution_count": 48,
      "outputs": [
        {
          "output_type": "stream",
          "name": "stdout",
          "text": [
            "거래한 아이디는 총 64266개 입니다.\n"
          ]
        }
      ]
    },
    {
      "cell_type": "markdown",
      "source": [
        "사용할 데이터프레임을 정리해줍니다."
      ],
      "metadata": {
        "id": "MyzmUTTD_q59"
      }
    },
    {
      "cell_type": "code",
      "source": [
        "df2 = df[['아이디','지번코드','시군구코드','자치구명','법정동코드','법정동명','신고년도','업무구분코드','업무구분','물건번호','대지권면적','건물면적','관리구분코드','층정보','건물주용도코드','건물주용도','물건금액','건축년도','건물명']]\n",
        "df2.head(2)"
      ],
      "metadata": {
        "colab": {
          "base_uri": "https://localhost:8080/",
          "height": 191
        },
        "id": "_baOeLD_-sHo",
        "outputId": "f70a6e30-5d10-417f-8e94-acea441cf1a6"
      },
      "execution_count": 49,
      "outputs": [
        {
          "output_type": "execute_result",
          "data": {
            "text/plain": [
              "       아이디                 지번코드  시군구코드 자치구명       법정동코드 법정동명  신고년도  업무구분코드  \\\n",
              "0  0005751  1111018300103450062  11110  종로구  1111018300  평창동  2021       4   \n",
              "1  0005458  1111017400107030000  11110  종로구  1111017400  창신동  2021       4   \n",
              "\n",
              "  업무구분  물건번호  대지권면적  건물면적 관리구분코드  층정보  건물주용도코드 건물주용도       물건금액    건축년도  \\\n",
              "0   신고     1  77.98  90.3      0  1.0     2002  연립주택  560000000  1994.0   \n",
              "1   신고     1   0.00  54.7      0  6.0     2001   아파트  700000000  1993.0   \n",
              "\n",
              "        건물명  \n",
              "0  (345-62)  \n",
              "1     창신쌍용2  "
            ],
            "text/html": [
              "\n",
              "  <div id=\"df-c87a774e-2422-4227-b387-be43eda4eb83\">\n",
              "    <div class=\"colab-df-container\">\n",
              "      <div>\n",
              "<style scoped>\n",
              "    .dataframe tbody tr th:only-of-type {\n",
              "        vertical-align: middle;\n",
              "    }\n",
              "\n",
              "    .dataframe tbody tr th {\n",
              "        vertical-align: top;\n",
              "    }\n",
              "\n",
              "    .dataframe thead th {\n",
              "        text-align: right;\n",
              "    }\n",
              "</style>\n",
              "<table border=\"1\" class=\"dataframe\">\n",
              "  <thead>\n",
              "    <tr style=\"text-align: right;\">\n",
              "      <th></th>\n",
              "      <th>아이디</th>\n",
              "      <th>지번코드</th>\n",
              "      <th>시군구코드</th>\n",
              "      <th>자치구명</th>\n",
              "      <th>법정동코드</th>\n",
              "      <th>법정동명</th>\n",
              "      <th>신고년도</th>\n",
              "      <th>업무구분코드</th>\n",
              "      <th>업무구분</th>\n",
              "      <th>물건번호</th>\n",
              "      <th>대지권면적</th>\n",
              "      <th>건물면적</th>\n",
              "      <th>관리구분코드</th>\n",
              "      <th>층정보</th>\n",
              "      <th>건물주용도코드</th>\n",
              "      <th>건물주용도</th>\n",
              "      <th>물건금액</th>\n",
              "      <th>건축년도</th>\n",
              "      <th>건물명</th>\n",
              "    </tr>\n",
              "  </thead>\n",
              "  <tbody>\n",
              "    <tr>\n",
              "      <th>0</th>\n",
              "      <td>0005751</td>\n",
              "      <td>1111018300103450062</td>\n",
              "      <td>11110</td>\n",
              "      <td>종로구</td>\n",
              "      <td>1111018300</td>\n",
              "      <td>평창동</td>\n",
              "      <td>2021</td>\n",
              "      <td>4</td>\n",
              "      <td>신고</td>\n",
              "      <td>1</td>\n",
              "      <td>77.98</td>\n",
              "      <td>90.3</td>\n",
              "      <td>0</td>\n",
              "      <td>1.0</td>\n",
              "      <td>2002</td>\n",
              "      <td>연립주택</td>\n",
              "      <td>560000000</td>\n",
              "      <td>1994.0</td>\n",
              "      <td>(345-62)</td>\n",
              "    </tr>\n",
              "    <tr>\n",
              "      <th>1</th>\n",
              "      <td>0005458</td>\n",
              "      <td>1111017400107030000</td>\n",
              "      <td>11110</td>\n",
              "      <td>종로구</td>\n",
              "      <td>1111017400</td>\n",
              "      <td>창신동</td>\n",
              "      <td>2021</td>\n",
              "      <td>4</td>\n",
              "      <td>신고</td>\n",
              "      <td>1</td>\n",
              "      <td>0.00</td>\n",
              "      <td>54.7</td>\n",
              "      <td>0</td>\n",
              "      <td>6.0</td>\n",
              "      <td>2001</td>\n",
              "      <td>아파트</td>\n",
              "      <td>700000000</td>\n",
              "      <td>1993.0</td>\n",
              "      <td>창신쌍용2</td>\n",
              "    </tr>\n",
              "  </tbody>\n",
              "</table>\n",
              "</div>\n",
              "      <button class=\"colab-df-convert\" onclick=\"convertToInteractive('df-c87a774e-2422-4227-b387-be43eda4eb83')\"\n",
              "              title=\"Convert this dataframe to an interactive table.\"\n",
              "              style=\"display:none;\">\n",
              "        \n",
              "  <svg xmlns=\"http://www.w3.org/2000/svg\" height=\"24px\"viewBox=\"0 0 24 24\"\n",
              "       width=\"24px\">\n",
              "    <path d=\"M0 0h24v24H0V0z\" fill=\"none\"/>\n",
              "    <path d=\"M18.56 5.44l.94 2.06.94-2.06 2.06-.94-2.06-.94-.94-2.06-.94 2.06-2.06.94zm-11 1L8.5 8.5l.94-2.06 2.06-.94-2.06-.94L8.5 2.5l-.94 2.06-2.06.94zm10 10l.94 2.06.94-2.06 2.06-.94-2.06-.94-.94-2.06-.94 2.06-2.06.94z\"/><path d=\"M17.41 7.96l-1.37-1.37c-.4-.4-.92-.59-1.43-.59-.52 0-1.04.2-1.43.59L10.3 9.45l-7.72 7.72c-.78.78-.78 2.05 0 2.83L4 21.41c.39.39.9.59 1.41.59.51 0 1.02-.2 1.41-.59l7.78-7.78 2.81-2.81c.8-.78.8-2.07 0-2.86zM5.41 20L4 18.59l7.72-7.72 1.47 1.35L5.41 20z\"/>\n",
              "  </svg>\n",
              "      </button>\n",
              "      \n",
              "  <style>\n",
              "    .colab-df-container {\n",
              "      display:flex;\n",
              "      flex-wrap:wrap;\n",
              "      gap: 12px;\n",
              "    }\n",
              "\n",
              "    .colab-df-convert {\n",
              "      background-color: #E8F0FE;\n",
              "      border: none;\n",
              "      border-radius: 50%;\n",
              "      cursor: pointer;\n",
              "      display: none;\n",
              "      fill: #1967D2;\n",
              "      height: 32px;\n",
              "      padding: 0 0 0 0;\n",
              "      width: 32px;\n",
              "    }\n",
              "\n",
              "    .colab-df-convert:hover {\n",
              "      background-color: #E2EBFA;\n",
              "      box-shadow: 0px 1px 2px rgba(60, 64, 67, 0.3), 0px 1px 3px 1px rgba(60, 64, 67, 0.15);\n",
              "      fill: #174EA6;\n",
              "    }\n",
              "\n",
              "    [theme=dark] .colab-df-convert {\n",
              "      background-color: #3B4455;\n",
              "      fill: #D2E3FC;\n",
              "    }\n",
              "\n",
              "    [theme=dark] .colab-df-convert:hover {\n",
              "      background-color: #434B5C;\n",
              "      box-shadow: 0px 1px 3px 1px rgba(0, 0, 0, 0.15);\n",
              "      filter: drop-shadow(0px 1px 2px rgba(0, 0, 0, 0.3));\n",
              "      fill: #FFFFFF;\n",
              "    }\n",
              "  </style>\n",
              "\n",
              "      <script>\n",
              "        const buttonEl =\n",
              "          document.querySelector('#df-c87a774e-2422-4227-b387-be43eda4eb83 button.colab-df-convert');\n",
              "        buttonEl.style.display =\n",
              "          google.colab.kernel.accessAllowed ? 'block' : 'none';\n",
              "\n",
              "        async function convertToInteractive(key) {\n",
              "          const element = document.querySelector('#df-c87a774e-2422-4227-b387-be43eda4eb83');\n",
              "          const dataTable =\n",
              "            await google.colab.kernel.invokeFunction('convertToInteractive',\n",
              "                                                     [key], {});\n",
              "          if (!dataTable) return;\n",
              "\n",
              "          const docLinkHtml = 'Like what you see? Visit the ' +\n",
              "            '<a target=\"_blank\" href=https://colab.research.google.com/notebooks/data_table.ipynb>data table notebook</a>'\n",
              "            + ' to learn more about interactive tables.';\n",
              "          element.innerHTML = '';\n",
              "          dataTable['output_type'] = 'display_data';\n",
              "          await google.colab.output.renderOutput(dataTable, element);\n",
              "          const docLink = document.createElement('div');\n",
              "          docLink.innerHTML = docLinkHtml;\n",
              "          element.appendChild(docLink);\n",
              "        }\n",
              "      </script>\n",
              "    </div>\n",
              "  </div>\n",
              "  "
            ]
          },
          "metadata": {},
          "execution_count": 49
        }
      ]
    },
    {
      "cell_type": "code",
      "source": [
        "trade_df = df2.아이디.value_counts().rename_axis('아이디').reset_index(name='거래량')\n",
        "trade_df"
      ],
      "metadata": {
        "colab": {
          "base_uri": "https://localhost:8080/",
          "height": 424
        },
        "id": "NM64kA1fFEpH",
        "outputId": "94134d84-d561-4bcf-9938-6b91d44b14c0"
      },
      "execution_count": 57,
      "outputs": [
        {
          "output_type": "execute_result",
          "data": {
            "text/plain": [
              "           아이디  거래량\n",
              "0      0007912  546\n",
              "1      0007712  500\n",
              "2      0007092  378\n",
              "3      0005456  370\n",
              "4      0001931  350\n",
              "...        ...  ...\n",
              "64261  0138828    1\n",
              "64262  0138784    1\n",
              "64263  0138781    1\n",
              "64264  0138777    1\n",
              "64265  0100324    1\n",
              "\n",
              "[64266 rows x 2 columns]"
            ],
            "text/html": [
              "\n",
              "  <div id=\"df-87f2601b-b79b-4c91-9dad-7ee56a678238\">\n",
              "    <div class=\"colab-df-container\">\n",
              "      <div>\n",
              "<style scoped>\n",
              "    .dataframe tbody tr th:only-of-type {\n",
              "        vertical-align: middle;\n",
              "    }\n",
              "\n",
              "    .dataframe tbody tr th {\n",
              "        vertical-align: top;\n",
              "    }\n",
              "\n",
              "    .dataframe thead th {\n",
              "        text-align: right;\n",
              "    }\n",
              "</style>\n",
              "<table border=\"1\" class=\"dataframe\">\n",
              "  <thead>\n",
              "    <tr style=\"text-align: right;\">\n",
              "      <th></th>\n",
              "      <th>아이디</th>\n",
              "      <th>거래량</th>\n",
              "    </tr>\n",
              "  </thead>\n",
              "  <tbody>\n",
              "    <tr>\n",
              "      <th>0</th>\n",
              "      <td>0007912</td>\n",
              "      <td>546</td>\n",
              "    </tr>\n",
              "    <tr>\n",
              "      <th>1</th>\n",
              "      <td>0007712</td>\n",
              "      <td>500</td>\n",
              "    </tr>\n",
              "    <tr>\n",
              "      <th>2</th>\n",
              "      <td>0007092</td>\n",
              "      <td>378</td>\n",
              "    </tr>\n",
              "    <tr>\n",
              "      <th>3</th>\n",
              "      <td>0005456</td>\n",
              "      <td>370</td>\n",
              "    </tr>\n",
              "    <tr>\n",
              "      <th>4</th>\n",
              "      <td>0001931</td>\n",
              "      <td>350</td>\n",
              "    </tr>\n",
              "    <tr>\n",
              "      <th>...</th>\n",
              "      <td>...</td>\n",
              "      <td>...</td>\n",
              "    </tr>\n",
              "    <tr>\n",
              "      <th>64261</th>\n",
              "      <td>0138828</td>\n",
              "      <td>1</td>\n",
              "    </tr>\n",
              "    <tr>\n",
              "      <th>64262</th>\n",
              "      <td>0138784</td>\n",
              "      <td>1</td>\n",
              "    </tr>\n",
              "    <tr>\n",
              "      <th>64263</th>\n",
              "      <td>0138781</td>\n",
              "      <td>1</td>\n",
              "    </tr>\n",
              "    <tr>\n",
              "      <th>64264</th>\n",
              "      <td>0138777</td>\n",
              "      <td>1</td>\n",
              "    </tr>\n",
              "    <tr>\n",
              "      <th>64265</th>\n",
              "      <td>0100324</td>\n",
              "      <td>1</td>\n",
              "    </tr>\n",
              "  </tbody>\n",
              "</table>\n",
              "<p>64266 rows × 2 columns</p>\n",
              "</div>\n",
              "      <button class=\"colab-df-convert\" onclick=\"convertToInteractive('df-87f2601b-b79b-4c91-9dad-7ee56a678238')\"\n",
              "              title=\"Convert this dataframe to an interactive table.\"\n",
              "              style=\"display:none;\">\n",
              "        \n",
              "  <svg xmlns=\"http://www.w3.org/2000/svg\" height=\"24px\"viewBox=\"0 0 24 24\"\n",
              "       width=\"24px\">\n",
              "    <path d=\"M0 0h24v24H0V0z\" fill=\"none\"/>\n",
              "    <path d=\"M18.56 5.44l.94 2.06.94-2.06 2.06-.94-2.06-.94-.94-2.06-.94 2.06-2.06.94zm-11 1L8.5 8.5l.94-2.06 2.06-.94-2.06-.94L8.5 2.5l-.94 2.06-2.06.94zm10 10l.94 2.06.94-2.06 2.06-.94-2.06-.94-.94-2.06-.94 2.06-2.06.94z\"/><path d=\"M17.41 7.96l-1.37-1.37c-.4-.4-.92-.59-1.43-.59-.52 0-1.04.2-1.43.59L10.3 9.45l-7.72 7.72c-.78.78-.78 2.05 0 2.83L4 21.41c.39.39.9.59 1.41.59.51 0 1.02-.2 1.41-.59l7.78-7.78 2.81-2.81c.8-.78.8-2.07 0-2.86zM5.41 20L4 18.59l7.72-7.72 1.47 1.35L5.41 20z\"/>\n",
              "  </svg>\n",
              "      </button>\n",
              "      \n",
              "  <style>\n",
              "    .colab-df-container {\n",
              "      display:flex;\n",
              "      flex-wrap:wrap;\n",
              "      gap: 12px;\n",
              "    }\n",
              "\n",
              "    .colab-df-convert {\n",
              "      background-color: #E8F0FE;\n",
              "      border: none;\n",
              "      border-radius: 50%;\n",
              "      cursor: pointer;\n",
              "      display: none;\n",
              "      fill: #1967D2;\n",
              "      height: 32px;\n",
              "      padding: 0 0 0 0;\n",
              "      width: 32px;\n",
              "    }\n",
              "\n",
              "    .colab-df-convert:hover {\n",
              "      background-color: #E2EBFA;\n",
              "      box-shadow: 0px 1px 2px rgba(60, 64, 67, 0.3), 0px 1px 3px 1px rgba(60, 64, 67, 0.15);\n",
              "      fill: #174EA6;\n",
              "    }\n",
              "\n",
              "    [theme=dark] .colab-df-convert {\n",
              "      background-color: #3B4455;\n",
              "      fill: #D2E3FC;\n",
              "    }\n",
              "\n",
              "    [theme=dark] .colab-df-convert:hover {\n",
              "      background-color: #434B5C;\n",
              "      box-shadow: 0px 1px 3px 1px rgba(0, 0, 0, 0.15);\n",
              "      filter: drop-shadow(0px 1px 2px rgba(0, 0, 0, 0.3));\n",
              "      fill: #FFFFFF;\n",
              "    }\n",
              "  </style>\n",
              "\n",
              "      <script>\n",
              "        const buttonEl =\n",
              "          document.querySelector('#df-87f2601b-b79b-4c91-9dad-7ee56a678238 button.colab-df-convert');\n",
              "        buttonEl.style.display =\n",
              "          google.colab.kernel.accessAllowed ? 'block' : 'none';\n",
              "\n",
              "        async function convertToInteractive(key) {\n",
              "          const element = document.querySelector('#df-87f2601b-b79b-4c91-9dad-7ee56a678238');\n",
              "          const dataTable =\n",
              "            await google.colab.kernel.invokeFunction('convertToInteractive',\n",
              "                                                     [key], {});\n",
              "          if (!dataTable) return;\n",
              "\n",
              "          const docLinkHtml = 'Like what you see? Visit the ' +\n",
              "            '<a target=\"_blank\" href=https://colab.research.google.com/notebooks/data_table.ipynb>data table notebook</a>'\n",
              "            + ' to learn more about interactive tables.';\n",
              "          element.innerHTML = '';\n",
              "          dataTable['output_type'] = 'display_data';\n",
              "          await google.colab.output.renderOutput(dataTable, element);\n",
              "          const docLink = document.createElement('div');\n",
              "          docLink.innerHTML = docLinkHtml;\n",
              "          element.appendChild(docLink);\n",
              "        }\n",
              "      </script>\n",
              "    </div>\n",
              "  </div>\n",
              "  "
            ]
          },
          "metadata": {},
          "execution_count": 57
        }
      ]
    },
    {
      "cell_type": "code",
      "source": [
        "# 약 50개 기준으로 확인\n",
        "df2.아이디.value_counts().hist(bins=10,facecolor='orange', alpha=0.7)"
      ],
      "metadata": {
        "colab": {
          "base_uri": "https://localhost:8080/",
          "height": 281
        },
        "id": "t89YOwX3A2vg",
        "outputId": "0d1ac59b-478f-45b2-fe53-0fe86cc25812"
      },
      "execution_count": 55,
      "outputs": [
        {
          "output_type": "execute_result",
          "data": {
            "text/plain": [
              "<matplotlib.axes._subplots.AxesSubplot at 0x7fcd542c9550>"
            ]
          },
          "metadata": {},
          "execution_count": 55
        },
        {
          "output_type": "display_data",
          "data": {
            "text/plain": [
              "<Figure size 432x288 with 1 Axes>"
            ],
            "image/png": "[encoded data removed]"
          },
          "metadata": {
            "needs_background": "light"
          }
        }
      ]
    },
    {
      "cell_type": "markdown",
      "source": [
        "대부분 200 이하의 거래량을 보이며, 50이하의 거래량이 압도적으로 많다."
      ],
      "metadata": {
        "id": "V9pStWdDBz0D"
      }
    },
    {
      "cell_type": "markdown",
      "source": [
        "- 확인할 수 있는 것:\n",
        "\n",
        "  - 거래량에 따른 물건금액, 건물주용도,자치구명\n",
        "  \n",
        "    - 1~50\n",
        "    - 51~100\n",
        "    - 101~150\n",
        "    - 151~200\n",
        "    - 200 초과"
      ],
      "metadata": {
        "id": "ZeBs5DxDCCrf"
      }
    },
    {
      "cell_type": "markdown",
      "source": [
        "**거래량 feature 추가**"
      ],
      "metadata": {
        "id": "jCMraiE3DWZm"
      }
    },
    {
      "cell_type": "markdown",
      "source": [
        "아이디에 따라 거래량 데이터를 추가하기 위해 merge함수를 사용해준다.\n",
        "\n",
        "공통된 column인 아이디를 사용한다."
      ],
      "metadata": {
        "id": "o2EE9RNNGfEn"
      }
    },
    {
      "cell_type": "code",
      "source": [
        "df2=pd.merge(df2,trade_df,on='아이디')\n",
        "df2.head(3)"
      ],
      "metadata": {
        "colab": {
          "base_uri": "https://localhost:8080/",
          "height": 256
        },
        "id": "Y2nGcgpiDgi0",
        "outputId": "6f91ccea-1832-4a49-b983-48810798d587"
      },
      "execution_count": 61,
      "outputs": [
        {
          "output_type": "execute_result",
          "data": {
            "text/plain": [
              "       아이디                 지번코드  시군구코드  자치구명       법정동코드 법정동명  신고년도  업무구분코드  \\\n",
              "0  0005751  1111018300103450062  11110   종로구  1111018300  평창동  2021       4   \n",
              "1  0005751  1123010300108920121  11230  동대문구  1123010300  제기동  2021       4   \n",
              "2  0005751  1130510200101480203  11305   강북구  1130510200   번동  2021       4   \n",
              "\n",
              "  업무구분  물건번호  대지권면적   건물면적 관리구분코드  층정보  건물주용도코드 건물주용도       물건금액    건축년도  \\\n",
              "0   신고     1  77.98  90.30      0  1.0     2002  연립주택  560000000  1994.0   \n",
              "1   신고     1  17.93  29.76      0  2.0     2002  연립주택  270000000  2018.0   \n",
              "2   신고     1  24.20  35.02      0 -1.0     2002  연립주택  165000000  1989.0   \n",
              "\n",
              "        건물명  거래량  \n",
              "0  (345-62)  183  \n",
              "1      다빈치빌  183  \n",
              "2      승한빌라  183  "
            ],
            "text/html": [
              "\n",
              "  <div id=\"df-70d059d2-594b-430a-a9ce-56a4f6ebab91\">\n",
              "    <div class=\"colab-df-container\">\n",
              "      <div>\n",
              "<style scoped>\n",
              "    .dataframe tbody tr th:only-of-type {\n",
              "        vertical-align: middle;\n",
              "    }\n",
              "\n",
              "    .dataframe tbody tr th {\n",
              "        vertical-align: top;\n",
              "    }\n",
              "\n",
              "    .dataframe thead th {\n",
              "        text-align: right;\n",
              "    }\n",
              "</style>\n",
              "<table border=\"1\" class=\"dataframe\">\n",
              "  <thead>\n",
              "    <tr style=\"text-align: right;\">\n",
              "      <th></th>\n",
              "      <th>아이디</th>\n",
              "      <th>지번코드</th>\n",
              "      <th>시군구코드</th>\n",
              "      <th>자치구명</th>\n",
              "      <th>법정동코드</th>\n",
              "      <th>법정동명</th>\n",
              "      <th>신고년도</th>\n",
              "      <th>업무구분코드</th>\n",
              "      <th>업무구분</th>\n",
              "      <th>물건번호</th>\n",
              "      <th>대지권면적</th>\n",
              "      <th>건물면적</th>\n",
              "      <th>관리구분코드</th>\n",
              "      <th>층정보</th>\n",
              "      <th>건물주용도코드</th>\n",
              "      <th>건물주용도</th>\n",
              "      <th>물건금액</th>\n",
              "      <th>건축년도</th>\n",
              "      <th>건물명</th>\n",
              "      <th>거래량</th>\n",
              "    </tr>\n",
              "  </thead>\n",
              "  <tbody>\n",
              "    <tr>\n",
              "      <th>0</th>\n",
              "      <td>0005751</td>\n",
              "      <td>1111018300103450062</td>\n",
              "      <td>11110</td>\n",
              "      <td>종로구</td>\n",
              "      <td>1111018300</td>\n",
              "      <td>평창동</td>\n",
              "      <td>2021</td>\n",
              "      <td>4</td>\n",
              "      <td>신고</td>\n",
              "      <td>1</td>\n",
              "      <td>77.98</td>\n",
              "      <td>90.30</td>\n",
              "      <td>0</td>\n",
              "      <td>1.0</td>\n",
              "      <td>2002</td>\n",
              "      <td>연립주택</td>\n",
              "      <td>560000000</td>\n",
              "      <td>1994.0</td>\n",
              "      <td>(345-62)</td>\n",
              "      <td>183</td>\n",
              "    </tr>\n",
              "    <tr>\n",
              "      <th>1</th>\n",
              "      <td>0005751</td>\n",
              "      <td>1123010300108920121</td>\n",
              "      <td>11230</td>\n",
              "      <td>동대문구</td>\n",
              "      <td>1123010300</td>\n",
              "      <td>제기동</td>\n",
              "      <td>2021</td>\n",
              "      <td>4</td>\n",
              "      <td>신고</td>\n",
              "      <td>1</td>\n",
              "      <td>17.93</td>\n",
              "      <td>29.76</td>\n",
              "      <td>0</td>\n",
              "      <td>2.0</td>\n",
              "      <td>2002</td>\n",
              "      <td>연립주택</td>\n",
              "      <td>270000000</td>\n",
              "      <td>2018.0</td>\n",
              "      <td>다빈치빌</td>\n",
              "      <td>183</td>\n",
              "    </tr>\n",
              "    <tr>\n",
              "      <th>2</th>\n",
              "      <td>0005751</td>\n",
              "      <td>1130510200101480203</td>\n",
              "      <td>11305</td>\n",
              "      <td>강북구</td>\n",
              "      <td>1130510200</td>\n",
              "      <td>번동</td>\n",
              "      <td>2021</td>\n",
              "      <td>4</td>\n",
              "      <td>신고</td>\n",
              "      <td>1</td>\n",
              "      <td>24.20</td>\n",
              "      <td>35.02</td>\n",
              "      <td>0</td>\n",
              "      <td>-1.0</td>\n",
              "      <td>2002</td>\n",
              "      <td>연립주택</td>\n",
              "      <td>165000000</td>\n",
              "      <td>1989.0</td>\n",
              "      <td>승한빌라</td>\n",
              "      <td>183</td>\n",
              "    </tr>\n",
              "  </tbody>\n",
              "</table>\n",
              "</div>\n",
              "      <button class=\"colab-df-convert\" onclick=\"convertToInteractive('df-70d059d2-594b-430a-a9ce-56a4f6ebab91')\"\n",
              "              title=\"Convert this dataframe to an interactive table.\"\n",
              "              style=\"display:none;\">\n",
              "        \n",
              "  <svg xmlns=\"http://www.w3.org/2000/svg\" height=\"24px\"viewBox=\"0 0 24 24\"\n",
              "       width=\"24px\">\n",
              "    <path d=\"M0 0h24v24H0V0z\" fill=\"none\"/>\n",
              "    <path d=\"M18.56 5.44l.94 2.06.94-2.06 2.06-.94-2.06-.94-.94-2.06-.94 2.06-2.06.94zm-11 1L8.5 8.5l.94-2.06 2.06-.94-2.06-.94L8.5 2.5l-.94 2.06-2.06.94zm10 10l.94 2.06.94-2.06 2.06-.94-2.06-.94-.94-2.06-.94 2.06-2.06.94z\"/><path d=\"M17.41 7.96l-1.37-1.37c-.4-.4-.92-.59-1.43-.59-.52 0-1.04.2-1.43.59L10.3 9.45l-7.72 7.72c-.78.78-.78 2.05 0 2.83L4 21.41c.39.39.9.59 1.41.59.51 0 1.02-.2 1.41-.59l7.78-7.78 2.81-2.81c.8-.78.8-2.07 0-2.86zM5.41 20L4 18.59l7.72-7.72 1.47 1.35L5.41 20z\"/>\n",
              "  </svg>\n",
              "      </button>\n",
              "      \n",
              "  <style>\n",
              "    .colab-df-container {\n",
              "      display:flex;\n",
              "      flex-wrap:wrap;\n",
              "      gap: 12px;\n",
              "    }\n",
              "\n",
              "    .colab-df-convert {\n",
              "      background-color: #E8F0FE;\n",
              "      border: none;\n",
              "      border-radius: 50%;\n",
              "      cursor: pointer;\n",
              "      display: none;\n",
              "      fill: #1967D2;\n",
              "      height: 32px;\n",
              "      padding: 0 0 0 0;\n",
              "      width: 32px;\n",
              "    }\n",
              "\n",
              "    .colab-df-convert:hover {\n",
              "      background-color: #E2EBFA;\n",
              "      box-shadow: 0px 1px 2px rgba(60, 64, 67, 0.3), 0px 1px 3px 1px rgba(60, 64, 67, 0.15);\n",
              "      fill: #174EA6;\n",
              "    }\n",
              "\n",
              "    [theme=dark] .colab-df-convert {\n",
              "      background-color: #3B4455;\n",
              "      fill: #D2E3FC;\n",
              "    }\n",
              "\n",
              "    [theme=dark] .colab-df-convert:hover {\n",
              "      background-color: #434B5C;\n",
              "      box-shadow: 0px 1px 3px 1px rgba(0, 0, 0, 0.15);\n",
              "      filter: drop-shadow(0px 1px 2px rgba(0, 0, 0, 0.3));\n",
              "      fill: #FFFFFF;\n",
              "    }\n",
              "  </style>\n",
              "\n",
              "      <script>\n",
              "        const buttonEl =\n",
              "          document.querySelector('#df-70d059d2-594b-430a-a9ce-56a4f6ebab91 button.colab-df-convert');\n",
              "        buttonEl.style.display =\n",
              "          google.colab.kernel.accessAllowed ? 'block' : 'none';\n",
              "\n",
              "        async function convertToInteractive(key) {\n",
              "          const element = document.querySelector('#df-70d059d2-594b-430a-a9ce-56a4f6ebab91');\n",
              "          const dataTable =\n",
              "            await google.colab.kernel.invokeFunction('convertToInteractive',\n",
              "                                                     [key], {});\n",
              "          if (!dataTable) return;\n",
              "\n",
              "          const docLinkHtml = 'Like what you see? Visit the ' +\n",
              "            '<a target=\"_blank\" href=https://colab.research.google.com/notebooks/data_table.ipynb>data table notebook</a>'\n",
              "            + ' to learn more about interactive tables.';\n",
              "          element.innerHTML = '';\n",
              "          dataTable['output_type'] = 'display_data';\n",
              "          await google.colab.output.renderOutput(dataTable, element);\n",
              "          const docLink = document.createElement('div');\n",
              "          docLink.innerHTML = docLinkHtml;\n",
              "          element.appendChild(docLink);\n",
              "        }\n",
              "      </script>\n",
              "    </div>\n",
              "  </div>\n",
              "  "
            ]
          },
          "metadata": {},
          "execution_count": 61
        }
      ]
    },
    {
      "cell_type": "code",
      "source": [
        "df2.거래량.nunique()"
      ],
      "metadata": {
        "colab": {
          "base_uri": "https://localhost:8080/"
        },
        "id": "xQcDhS6XGrQW",
        "outputId": "8d0da838-244b-4a7c-d270-825fd94f9db8"
      },
      "execution_count": 62,
      "outputs": [
        {
          "output_type": "execute_result",
          "data": {
            "text/plain": [
              "265"
            ]
          },
          "metadata": {},
          "execution_count": 62
        }
      ]
    },
    {
      "cell_type": "markdown",
      "source": [
        "추후 거래량과 물건금액의 상관성도 파악해볼 수 있을 것이다."
      ],
      "metadata": {
        "id": "UJq5YfL_G7_a"
      }
    },
    {
      "cell_type": "markdown",
      "source": [
        "**데이터셋 구분**\n",
        "\n",
        "- 수치형 : 대지권면적, 건물면적, 층정보, 물건금액, 건축년도,거래량\n",
        "- 범주형\n",
        "  - 높은 범주: 지번코드, 법정동코드, 법정동명, 물건번호, 건물명, 아이디\n",
        "  - 낮은 범주: 시군구코드, 자치구명, 신고년도, 업무구분코드, 업무구분, 관리구분코드, 건물주용도코드, 건물주용도"
      ],
      "metadata": {
        "id": "Bti5k1FC4s6P"
      }
    },
    {
      "cell_type": "code",
      "source": [
        ""
      ],
      "metadata": {
        "id": "-F3BjBED4OPJ"
      },
      "execution_count": null,
      "outputs": []
    }
  ]
}